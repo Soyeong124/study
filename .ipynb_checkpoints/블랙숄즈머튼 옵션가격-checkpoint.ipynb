{
 "cells": [
  {
   "cell_type": "markdown",
   "id": "bf7845ff",
   "metadata": {},
   "source": [
    "# 블랙숄즈머튼 옵션가격 모형\n",
    "유러피안 콜 옵션 가격을 시뮬레이션을 통해 계산\n",
    "![image.png](attachment:5d3d4c8b-72f|d-409b-9cde-edaa851b2013.png)"
   ]
  },
  {
   "cell_type": "code",
   "execution_count": 7,
   "id": "9c797203",
   "metadata": {},
   "outputs": [],
   "source": [
    "import math\n",
    "import numpy as np"
   ]
  },
  {
   "cell_type": "code",
   "execution_count": 8,
   "id": "c238bf96",
   "metadata": {},
   "outputs": [],
   "source": [
    "SO = 100\n",
    "K = 1.5\n",
    "T = 1.0\n",
    "r = 0.05\n",
    "sigma = 0.2"
   ]
  },
  {
   "cell_type": "code",
   "execution_count": 9,
   "id": "028a3cbc",
   "metadata": {},
   "outputs": [],
   "source": [
    "I = 100000"
   ]
  },
  {
   "cell_type": "code",
   "execution_count": 10,
   "id": "dbac62eb",
   "metadata": {},
   "outputs": [],
   "source": [
    "np.random.seed(1000)"
   ]
  },
  {
   "cell_type": "code",
   "execution_count": 11,
   "id": "0fce739b",
   "metadata": {},
   "outputs": [],
   "source": [
    "z = np.random.standard_normal(I)\n",
    "# 표쥰정규분포 난수 뽑기"
   ]
  },
  {
   "cell_type": "code",
   "execution_count": null,
   "id": "e52cf4c8-1b02-4fd4-897d-d08e2f61d047",
   "metadata": {},
   "outputs": [],
   "source": [
    "ST = SO * np.exp((r - sigm"
   ]
  }
 ],
 "metadata": {
  "jupytext": {
   "formats": "auto:percent,ipynb"
  },
  "kernelspec": {
   "display_name": "Python 3 (ipykernel)",
   "language": "python",
   "name": "python3"
  },
  "language_info": {
   "codemirror_mode": {
    "name": "ipython",
    "version": 3
   },
   "file_extension": ".py",
   "mimetype": "text/x-python",
   "name": "python",
   "nbconvert_exporter": "python",
   "pygments_lexer": "ipython3",
   "version": "3.10.11"
  }
 },
 "nbformat": 4,
 "nbformat_minor": 5
}
